{
 "cells": [
  {
   "cell_type": "code",
   "execution_count": 3,
   "metadata": {},
   "outputs": [],
   "source": [
    "import psycopg2 \n",
    "\n",
    "con = psycopg2.connect(\n",
    "  database=\"fced_rhaydrick_tavares\",             # your database is the same as your username\n",
    "  user=\"fced_rhaydrick_tavares\",                 # your username\n",
    "  password=\"Rhaydrick@0358\",             # your password\n",
    "  host=\"dbm.fe.up.pt\",             # the database host\n",
    "  options='-c search_path=employee',\n",
    "  port='5433'  # use the schema you want to connect to\n",
    ")"
   ]
  },
  {
   "cell_type": "code",
   "execution_count": 4,
   "metadata": {},
   "outputs": [
    {
     "name": "stdout",
     "output_type": "stream",
     "text": [
      "(10, 'Barry', Decimal('1300.00'), 3, 8)\n"
     ]
    }
   ],
   "source": [
    "id = int(input('Employee ID: '))\n",
    "cur = con.cursor()\n",
    "cur.execute(f'SELECT * FROM employee WHERE id = {id}')\n",
    "employee = cur.fetchone()\n",
    "print(employee)"
   ]
  },
  {
   "cell_type": "code",
   "execution_count": null,
   "metadata": {},
   "outputs": [],
   "source": []
  }
 ],
 "metadata": {
  "kernelspec": {
   "display_name": "Python 3.9.7 ('base')",
   "language": "python",
   "name": "python3"
  },
  "language_info": {
   "codemirror_mode": {
    "name": "ipython",
    "version": 3
   },
   "file_extension": ".py",
   "mimetype": "text/x-python",
   "name": "python",
   "nbconvert_exporter": "python",
   "pygments_lexer": "ipython3",
   "version": "3.9.7"
  },
  "orig_nbformat": 4,
  "vscode": {
   "interpreter": {
    "hash": "3cdc2136a0c3ff6ee581d9355ebf305035e9e0ffdb59b37da8e4674310bf0233"
   }
  }
 },
 "nbformat": 4,
 "nbformat_minor": 2
}
